{
 "cells": [
  {
   "cell_type": "code",
   "execution_count": 7,
   "id": "22beb618",
   "metadata": {},
   "outputs": [
    {
     "name": "stdout",
     "output_type": "stream",
     "text": [
      "C:\\Study\\Myprojects\\LLMOps\\Elevenplus\\notebook\\test_func.py\n",
      "C:\\Study\\Myprojects\\LLMOps\\Elevenplus\\notebook\n",
      "C:\\Study\\Myprojects\\LLMOps\\Elevenplus\n"
     ]
    }
   ],
   "source": [
    "from test_func import *"
   ]
  },
  {
   "cell_type": "code",
   "execution_count": 1,
   "id": "6bf88926",
   "metadata": {},
   "outputs": [],
   "source": [
    "from reportlab.lib.pagesizes import A4\n",
    "from reportlab.platypus import SimpleDocTemplate, Paragraph\n",
    "from reportlab.lib.styles import getSampleStyleSheet, ParagraphStyle\n",
    "from reportlab.lib.units import inch\n",
    "\n",
    "def save_text_to_pdf(text: str, filename: str = \"styled_output.pdf\"):\n",
    "    # Create PDF document\n",
    "    doc = SimpleDocTemplate(\n",
    "        filename,\n",
    "        pagesize=A4,\n",
    "        rightMargin=0.75*inch,\n",
    "        leftMargin=0.75*inch,\n",
    "        topMargin=1*inch,\n",
    "        bottomMargin=1*inch,\n",
    "    )\n",
    "\n",
    "    # Define custom style\n",
    "    custom_style = ParagraphStyle(\n",
    "        name=\"Custom\",\n",
    "        fontName=\"Helvetica\",     # Options: 'Times-Roman', 'Courier', 'Helvetica'\n",
    "        fontSize=16,              # Font size\n",
    "        leading=22,               # Line spacing (usually 120-140% of font size)\n",
    "        spaceAfter=12,            # Space after each paragraph\n",
    "    )\n",
    "\n",
    "    # Split text into paragraphs\n",
    "    paragraphs = text.split(\"\\n\")\n",
    "    flowables = [Paragraph(p, custom_style) for p in paragraphs if p.strip()]\n",
    "\n",
    "    # Build PDF\n",
    "    doc.build(flowables)\n",
    "    print(f\"PDF saved as {filename}\")\n",
    "\n",
    "\n"
   ]
  },
  {
   "cell_type": "code",
   "execution_count": null,
   "id": "c8df9daa",
   "metadata": {},
   "outputs": [],
   "source": [
    "questions = \"\"\"\n",
    "Words:\n",
    "level-crossing christianity rip forgery counted somewhere sprint scamper swap shrimp pageant khaki squint skin-diving photography tricycle antiques tandem accelerate\n",
    "\n",
    "\n",
    "\f\n",
    "Questions:\n",
    "1. The train approached the ________, and the barriers slowly lowered.\n",
    "2. Many cathedrals stand as testament to the lasting influence of ________.\n",
    "3. Be careful not to ________ the delicate fabric.\n",
    "4. The art expert immediately identified the painting as a ________.\n",
    "5. Every penny ________ towards the charity's fundraising goal.\n",
    "6. I knew I had left my keys ________ in the house, I just couldn't remember where.\n",
    "7. The athlete burst into a ________ in the final stretch of the race.\n",
    "8. The mice ________ across the floor when the lights were turned on.\n",
    "9. Would you like to ________ seats with me at the cinema?\n",
    "10. The fisherman caught a basket full of ________ in his net.\n",
    "11. She won the first prize in the school ________ for her performance.\n",
    "12. The soldiers wore ________ uniforms in the desert.\n",
    "13. He had to ________ to see in the bright sunlight.\n",
    "14. ________ is a popular activity in the coral reefs.\n",
    "15. ________ is a hobby that can last a lifetime.\n",
    "16. The toddler learned to ride a ________ at a very early age.\n",
    "17. She likes to collect ________ from a bygone era.\n",
    "18. The couple rode the ________ through the park.\n",
    "19. Press the pedal to ________ quickly onto the motorway.\n",
    "\"\"\"\n",
    "\n",
    "answers = \"\"\"\n",
    "\f1. The train approached the level-crossing, and the barriers slowly lowered.\n",
    "2. Many cathedrals stand as testament to the lasting influence of christianity.\n",
    "3. Be careful not to rip the delicate fabric.\n",
    "4. The art expert immediately identified the painting as a forgery.\n",
    "5. Every penny counted towards the charity's fundraising goal.\n",
    "6. I knew I had left my keys somewhere in the house, I just couldn't remember where.\n",
    "7. The athlete burst into a sprint in the final stretch of the race.\n",
    "8. The mice scamper across the floor when the lights were turned on.\n",
    "9. Would you like to swap seats with me at the cinema?\n",
    "10. The fisherman caught a basket full of shrimp in his net.\n",
    "11. She won the first prize in the school pageant for her performance.\n",
    "12. The soldiers wore khaki uniforms in the desert.\n",
    "13. He had to squint to see in the bright sunlight.\n",
    "14. Skin-diving is a popular activity in the coral reefs.\n",
    "15. Photography is a hobby that can last a lifetime.\n",
    "16. The toddler learned to ride a tricycle at a very early age.\n",
    "17. She likes to collect antiques from a bygone era.\n",
    "18. The couple rode the tandem through the park.\n",
    "19. Press the pedal to accelerate quickly onto the motorway.\n",
    "\"\"\""
   ]
  },
  {
   "cell_type": "code",
   "execution_count": 3,
   "id": "2b746300",
   "metadata": {},
   "outputs": [
    {
     "name": "stdout",
     "output_type": "stream",
     "text": [
      "PDF saved as questions.pdf\n",
      "PDF saved as answers.pdf\n"
     ]
    }
   ],
   "source": [
    "# Example usage\n",
    "questions = \"\"\"\n",
    "Questions:\n",
    "\n",
    "1) The swimming pool had to be closed because the level of ________ in the water was too high.\n",
    "\n",
    "2) The caterpillar spun a silky case and transformed inside its ________ before emerging as a butterfly.\n",
    "\n",
    "3) The cathedral’s ________ sang with such clarity that the notes echoed beautifully through the arches.\n",
    "\n",
    "4) Every autumn, my grandmother plants a bright yellow ________ in her garden to mark the season.\n",
    "\n",
    "5) The little village was so ________ that tourists often stopped just to take photographs of its charming houses.\n",
    "\n",
    "6) The nurse checked the patient’s fever by placing a ________ under his tongue.\n",
    "\n",
    "7) The electrician used an ________ to measure how much current was flowing through the circuit.\n",
    "\n",
    "8) Instead of carrying coins and cash, he wrote his landlord a ________ for the monthly rent.\n",
    "\n",
    "9) The abandoned carnival ride looked so twisted and ________ that even the bravest children avoided it.\n",
    "\"\"\"\n",
    "\n",
    "answers = \"\"\"\n",
    "Answers:\n",
    "\n",
    "1) The swimming pool had to be closed because the level of chlorine in the water was too high.\n",
    "\n",
    "2) The caterpillar spun a silky case and transformed inside its chrysalis before emerging as a butterfly.\n",
    "\n",
    "3) The cathedral’s chorister sang with such clarity that the notes echoed beautifully through the arches.\n",
    "\n",
    "4) Every autumn, my grandmother plants a bright yellow chrysanthemum in her garden to mark the season.\n",
    "\n",
    "5) The little village was so picturesque that tourists often stopped just to take photographs of its charming houses.\n",
    "\n",
    "6) The nurse checked the patient’s fever by placing a thermometer under his tongue.\n",
    "\n",
    "7) The electrician used an ammeter to measure how much current was flowing through the circuit.\n",
    "\n",
    "8) Instead of carrying coins and cash, he wrote his landlord a cheque for the monthly rent.\n",
    "\n",
    "9) The abandoned carnival ride looked so twisted and grotesque that even the bravest children avoided it.\n",
    "\"\"\"\n",
    "\n",
    "save_text_to_pdf(questions, \"questions.pdf\")\n",
    "save_text_to_pdf(answers, \"answers.pdf\")"
   ]
  },
  {
   "cell_type": "code",
   "execution_count": 1,
   "id": "78646ca6",
   "metadata": {},
   "outputs": [],
   "source": [
    "import random\n",
    "\n",
    "def simulate_item_reduction(n):\n",
    "    # Initialize points\n",
    "    points = [10] * n\n",
    "    loops = 0\n",
    "\n",
    "    while any(p > 0 for p in points):\n",
    "        loops += 1\n",
    "        \n",
    "        # Determine eligible items and their weights\n",
    "        weights = []\n",
    "        for p in points:\n",
    "            if p >= 10:\n",
    "                weights.append(0.749)\n",
    "            elif p == 5:\n",
    "                weights.append(0.25)\n",
    "            else:  # p == 0\n",
    "                weights.append(0.001)\n",
    "        \n",
    "        # Pick 20 distinct items\n",
    "        num_to_pick = 20\n",
    "        picked_indices = random.choices(\n",
    "            population=list(range(n)),\n",
    "            weights=weights,\n",
    "            k=num_to_pick\n",
    "        )\n",
    "        \n",
    "        # Ensure distinct items\n",
    "        picked_indices = list(set(picked_indices))\n",
    "        \n",
    "        # Reduce points by 5 for picked items\n",
    "        for idx in picked_indices:\n",
    "            points[idx] = max(0, points[idx] - 5)\n",
    "\n",
    "    return loops\n",
    "\n",
    "\n"
   ]
  },
  {
   "cell_type": "code",
   "execution_count": null,
   "id": "a720d557",
   "metadata": {},
   "outputs": [
    {
     "name": "stdout",
     "output_type": "stream",
     "text": [
      "Total number of repeats (loops) until all points are 0: 1022\n"
     ]
    },
    {
     "ename": "",
     "evalue": "",
     "output_type": "error",
     "traceback": [
      "\u001b[1;31mThe Kernel crashed while executing code in the current cell or a previous cell. \n",
      "\u001b[1;31mPlease review the code in the cell(s) to identify a possible cause of the failure. \n",
      "\u001b[1;31mClick <a href='https://aka.ms/vscodeJupyterKernelCrash'>here</a> for more info. \n",
      "\u001b[1;31mView Jupyter <a href='command:jupyter.viewOutput'>log</a> for further details."
     ]
    }
   ],
   "source": [
    "# Example usage\n",
    "n = 10000\n",
    "total_loops = simulate_item_reduction(n)\n",
    "print(f\"Total number of repeats (loops) until all points are 0: {total_loops}\")"
   ]
  }
 ],
 "metadata": {
  "kernelspec": {
   "display_name": ".venv",
   "language": "python",
   "name": "python3"
  },
  "language_info": {
   "codemirror_mode": {
    "name": "ipython",
    "version": 3
   },
   "file_extension": ".py",
   "mimetype": "text/x-python",
   "name": "python",
   "nbconvert_exporter": "python",
   "pygments_lexer": "ipython3",
   "version": "3.13.0"
  }
 },
 "nbformat": 4,
 "nbformat_minor": 5
}
