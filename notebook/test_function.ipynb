{
 "cells": [
  {
   "cell_type": "code",
   "execution_count": 7,
   "id": "22beb618",
   "metadata": {},
   "outputs": [
    {
     "name": "stdout",
     "output_type": "stream",
     "text": [
      "C:\\Study\\Myprojects\\LLMOps\\Elevenplus\\notebook\\test_func.py\n",
      "C:\\Study\\Myprojects\\LLMOps\\Elevenplus\\notebook\n",
      "C:\\Study\\Myprojects\\LLMOps\\Elevenplus\n"
     ]
    }
   ],
   "source": [
    "from test_func import *"
   ]
  }
 ],
 "metadata": {
  "kernelspec": {
   "display_name": "elevenplus",
   "language": "python",
   "name": "python3"
  },
  "language_info": {
   "codemirror_mode": {
    "name": "ipython",
    "version": 3
   },
   "file_extension": ".py",
   "mimetype": "text/x-python",
   "name": "python",
   "nbconvert_exporter": "python",
   "pygments_lexer": "ipython3",
   "version": "3.13.0"
  }
 },
 "nbformat": 4,
 "nbformat_minor": 5
}
