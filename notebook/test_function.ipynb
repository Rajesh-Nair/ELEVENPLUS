{
 "cells": [
  {
   "cell_type": "code",
   "execution_count": 7,
   "id": "22beb618",
   "metadata": {},
   "outputs": [
    {
     "name": "stdout",
     "output_type": "stream",
     "text": [
      "C:\\Study\\Myprojects\\LLMOps\\Elevenplus\\notebook\\test_func.py\n",
      "C:\\Study\\Myprojects\\LLMOps\\Elevenplus\\notebook\n",
      "C:\\Study\\Myprojects\\LLMOps\\Elevenplus\n"
     ]
    }
   ],
   "source": [
    "from test_func import *"
   ]
  },
  {
   "cell_type": "code",
   "execution_count": null,
   "id": "6bf88926",
   "metadata": {},
   "outputs": [
    {
     "name": "stdout",
     "output_type": "stream",
     "text": [
      "PDF saved as huge_text_custom.pdf\n"
     ]
    }
   ],
   "source": [
    "from reportlab.lib.pagesizes import A4\n",
    "from reportlab.platypus import SimpleDocTemplate, Paragraph\n",
    "from reportlab.lib.styles import getSampleStyleSheet, ParagraphStyle\n",
    "from reportlab.lib.units import inch\n",
    "\n",
    "def save_text_to_pdf(text: str, filename: str = \"styled_output.pdf\"):\n",
    "    # Create PDF document\n",
    "    doc = SimpleDocTemplate(\n",
    "        filename,\n",
    "        pagesize=A4,\n",
    "        rightMargin=0.75*inch,\n",
    "        leftMargin=0.75*inch,\n",
    "        topMargin=1*inch,\n",
    "        bottomMargin=1*inch,\n",
    "    )\n",
    "\n",
    "    # Define custom style\n",
    "    custom_style = ParagraphStyle(\n",
    "        name=\"Custom\",\n",
    "        fontName=\"Helvetica\",     # Options: 'Times-Roman', 'Courier', 'Helvetica'\n",
    "        fontSize=16,              # Font size\n",
    "        leading=22,               # Line spacing (usually 120-140% of font size)\n",
    "        spaceAfter=12,            # Space after each paragraph\n",
    "    )\n",
    "\n",
    "    # Split text into paragraphs\n",
    "    paragraphs = text.split(\"\\n\")\n",
    "    flowables = [Paragraph(p, custom_style) for p in paragraphs if p.strip()]\n",
    "\n",
    "    # Build PDF\n",
    "    doc.build(flowables)\n",
    "    print(f\"PDF saved as {filename}\")\n",
    "\n",
    "# Example usage\n",
    "huge_text = \"This is a sample paragraph with custom font and spacing. \" * 30\n",
    "huge_text += \"\\n\\n\" + \"Here is another block of text with spacing applied. \" * 40\n",
    "\n",
    "save_text_to_pdf(huge_text, \"huge_text_custom.pdf\")\n"
   ]
  }
 ],
 "metadata": {
  "kernelspec": {
   "display_name": "Elevenplus",
   "language": "python",
   "name": "python3"
  },
  "language_info": {
   "codemirror_mode": {
    "name": "ipython",
    "version": 3
   },
   "file_extension": ".py",
   "mimetype": "text/x-python",
   "name": "python",
   "nbconvert_exporter": "python",
   "pygments_lexer": "ipython3",
   "version": "3.13.0"
  }
 },
 "nbformat": 4,
 "nbformat_minor": 5
}
