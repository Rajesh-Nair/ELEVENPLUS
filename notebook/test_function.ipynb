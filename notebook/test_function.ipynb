{
 "cells": [
  {
   "cell_type": "code",
   "execution_count": 7,
   "id": "22beb618",
   "metadata": {},
   "outputs": [
    {
     "name": "stdout",
     "output_type": "stream",
     "text": [
      "C:\\Study\\Myprojects\\LLMOps\\Elevenplus\\notebook\\test_func.py\n",
      "C:\\Study\\Myprojects\\LLMOps\\Elevenplus\\notebook\n",
      "C:\\Study\\Myprojects\\LLMOps\\Elevenplus\n"
     ]
    }
   ],
   "source": [
    "from test_func import *"
   ]
  },
  {
   "cell_type": "code",
   "execution_count": 1,
   "id": "6bf88926",
   "metadata": {},
   "outputs": [],
   "source": [
    "from reportlab.lib.pagesizes import A4\n",
    "from reportlab.platypus import SimpleDocTemplate, Paragraph\n",
    "from reportlab.lib.styles import getSampleStyleSheet, ParagraphStyle\n",
    "from reportlab.lib.units import inch\n",
    "\n",
    "def save_text_to_pdf(text: str, filename: str = \"styled_output.pdf\"):\n",
    "    # Create PDF document\n",
    "    doc = SimpleDocTemplate(\n",
    "        filename,\n",
    "        pagesize=A4,\n",
    "        rightMargin=0.75*inch,\n",
    "        leftMargin=0.75*inch,\n",
    "        topMargin=1*inch,\n",
    "        bottomMargin=1*inch,\n",
    "    )\n",
    "\n",
    "    # Define custom style\n",
    "    custom_style = ParagraphStyle(\n",
    "        name=\"Custom\",\n",
    "        fontName=\"Helvetica\",     # Options: 'Times-Roman', 'Courier', 'Helvetica'\n",
    "        fontSize=16,              # Font size\n",
    "        leading=22,               # Line spacing (usually 120-140% of font size)\n",
    "        spaceAfter=12,            # Space after each paragraph\n",
    "    )\n",
    "\n",
    "    # Split text into paragraphs\n",
    "    paragraphs = text.split(\"\\n\")\n",
    "    flowables = [Paragraph(p, custom_style) for p in paragraphs if p.strip()]\n",
    "\n",
    "    # Build PDF\n",
    "    doc.build(flowables)\n",
    "    print(f\"PDF saved as {filename}\")\n",
    "\n",
    "\n"
   ]
  },
  {
   "cell_type": "code",
   "execution_count": null,
   "id": "2b746300",
   "metadata": {},
   "outputs": [
    {
     "name": "stdout",
     "output_type": "stream",
     "text": [
      "PDF saved as questions.pdf\n",
      "PDF saved as answers.pdf\n"
     ]
    }
   ],
   "source": [
    "# Example usage\n",
    "questions = \"\"\"\n",
    "Questions:\n",
    "\n",
    "1) The swimming pool had to be closed because the level of ________ in the water was too high.\n",
    "\n",
    "2) The caterpillar spun a silky case and transformed inside its ________ before emerging as a butterfly.\n",
    "\n",
    "3) The cathedral’s ________ sang with such clarity that the notes echoed beautifully through the arches.\n",
    "\n",
    "4) Every autumn, my grandmother plants a bright yellow ________ in her garden to mark the season.\n",
    "\n",
    "5) The little village was so ________ that tourists often stopped just to take photographs of its charming houses.\n",
    "\n",
    "6) The nurse checked the patient’s fever by placing a ________ under his tongue.\n",
    "\n",
    "7) The electrician used an ________ to measure how much current was flowing through the circuit.\n",
    "\n",
    "8) Instead of carrying coins and cash, he wrote his landlord a ________ for the monthly rent.\n",
    "\n",
    "9) The abandoned carnival ride looked so twisted and ________ that even the bravest children avoided it.\n",
    "\"\"\"\n",
    "\n",
    "answers = \"\"\"\n",
    "Answers:\n",
    "\n",
    "1) The swimming pool had to be closed because the level of chlorine in the water was too high.\n",
    "\n",
    "2) The caterpillar spun a silky case and transformed inside its chrysalis before emerging as a butterfly.\n",
    "\n",
    "3) The cathedral’s chorister sang with such clarity that the notes echoed beautifully through the arches.\n",
    "\n",
    "4) Every autumn, my grandmother plants a bright yellow chrysanthemum in her garden to mark the season.\n",
    "\n",
    "5) The little village was so picturesque that tourists often stopped just to take photographs of its charming houses.\n",
    "\n",
    "6) The nurse checked the patient’s fever by placing a thermometer under his tongue.\n",
    "\n",
    "7) The electrician used an ammeter to measure how much current was flowing through the circuit.\n",
    "\n",
    "8) Instead of carrying coins and cash, he wrote his landlord a cheque for the monthly rent.\n",
    "\n",
    "9) The abandoned carnival ride looked so twisted and grotesque that even the bravest children avoided it.\n",
    "\"\"\"\n",
    "\n",
    "save_text_to_pdf(questions, \"questions.pdf\")\n",
    "save_text_to_pdf(answers, \"answers.pdf\")"
   ]
  }
 ],
 "metadata": {
  "kernelspec": {
   "display_name": ".venv",
   "language": "python",
   "name": "python3"
  },
  "language_info": {
   "codemirror_mode": {
    "name": "ipython",
    "version": 3
   },
   "file_extension": ".py",
   "mimetype": "text/x-python",
   "name": "python",
   "nbconvert_exporter": "python",
   "pygments_lexer": "ipython3",
   "version": "3.13.0"
  }
 },
 "nbformat": 4,
 "nbformat_minor": 5
}
